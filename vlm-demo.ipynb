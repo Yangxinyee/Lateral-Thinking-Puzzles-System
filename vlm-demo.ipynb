{
 "cells": [
  {
   "cell_type": "markdown",
   "id": "52187be8",
   "metadata": {},
   "source": [
    "# VLM Demo\n",
    "\n",
    "In this notebook, we will demo how to use Visual Language Model to generate text from image and text instruction.\n",
    "\n",
    "Following this guide: https://huggingface.co/docs/transformers/main/en/tasks/image_text_to_text"
   ]
  },
  {
   "cell_type": "code",
   "execution_count": null,
   "id": "66e370ea",
   "metadata": {},
   "outputs": [],
   "source": [
    "import os\n",
    "from dotenv import load_dotenv\n",
    "load_dotenv(override=True)\n",
    "\n",
    "HF_API_KEY = os.getenv('HF_TOKEN')  # ur hugging face api key\n"
   ]
  },
  {
   "cell_type": "code",
   "execution_count": null,
   "id": "38194c88",
   "metadata": {},
   "outputs": [],
   "source": [
    "# shows how to access img on web\n",
    "import requests\n",
    "from PIL import Image\n",
    "from io import BytesIO\n",
    "\n",
    "img_url = \"https://raw.githubusercontent.com/Wonder947/Public-Images/refs/heads/main/examples/718616-bart.png\"\n",
    "response = requests.get(img_url)\n",
    "Image.open(BytesIO(response.content))\n"
   ]
  },
  {
   "cell_type": "code",
   "execution_count": null,
   "id": "21de1c06",
   "metadata": {},
   "outputs": [],
   "source": [
    "from openai import OpenAI\n",
    "\n",
    "client = OpenAI(\n",
    "    base_url=\"https://router.huggingface.co/hf-inference/models/Qwen/Qwen2-VL-7B-Instruct/v1\",\n",
    "    api_key=HF_API_KEY\n",
    ")\n",
    "\n",
    "completion = client.chat.completions.create(\n",
    "    model=\"Qwen/Qwen2-VL-7B-Instruct\",\n",
    "    messages=[\n",
    "        {\n",
    "            \"role\": \"user\",\n",
    "            \"content\": [\n",
    "                {\n",
    "                    \"type\": \"text\",\n",
    "                    \"text\": \"Describe this image in one sentence.\"\n",
    "                },\n",
    "                {\n",
    "                    \"type\": \"image_url\",\n",
    "                    \"image_url\": {\n",
    "                        # \"url\": \"https://cdn.britannica.com/61/93061-050-99147DCE/Statue-of-Liberty-Island-New-York-Bay.jpg\"\n",
    "                        \"url\": img_url\n",
    "                    }\n",
    "                }\n",
    "            ]\n",
    "        }\n",
    "    ],\n",
    "    max_tokens=512,\n",
    ")\n",
    "\n",
    "print(completion.choices[0].message)"
   ]
  }
 ],
 "metadata": {
  "kernelspec": {
   "display_name": "general_env",
   "language": "python",
   "name": "python3"
  },
  "language_info": {
   "codemirror_mode": {
    "name": "ipython",
    "version": 3
   },
   "file_extension": ".py",
   "mimetype": "text/x-python",
   "name": "python",
   "nbconvert_exporter": "python",
   "pygments_lexer": "ipython3",
   "version": "3.12.4"
  }
 },
 "nbformat": 4,
 "nbformat_minor": 5
}
